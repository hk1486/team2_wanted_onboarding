{
 "cells": [
  {
   "cell_type": "markdown",
   "metadata": {},
   "source": [
    "* ## 기본 그래픽 설정"
   ]
  },
  {
   "cell_type": "code",
   "execution_count": 2,
   "metadata": {},
   "outputs": [],
   "source": [
    "import pandas as pd\n",
    "import numpy as np\n",
    "import sklearn\n",
    "import matplotlib.pyplot as plt\n",
    "from matplotlib.gridspec import GridSpec\n",
    "import seaborn as sns\n",
    "\n",
    "def get_font_family():\n",
    "    import platform\n",
    "    system_name = platform.system()\n",
    "    # colab 사용자는 system_name이 'Linux'로 확인\n",
    "    if system_name == \"Darwin\" :\n",
    "        font_family = \"AppleGothic\"\n",
    "    elif system_name == \"Windows\":\n",
    "        font_family = \"Malgun Gothic\"\n",
    "    else:\n",
    "        !apt-get update -qq\n",
    "        !apt-get install fonts-nanum -qq  > /dev/null\n",
    "        import matplotlib.font_manager as fm\n",
    "        fontpath = '/usr/share/fonts/truetype/nanum/NanumBarunGothic.ttf'\n",
    "        font = fm.FontProperties(fname=fontpath, size=9)\n",
    "        fm._rebuild()\n",
    "        font_family = \"NanumBarunGothic\"\n",
    "    return font_family\n",
    "get_font_family()\n",
    "# 시각화를 위한 폰트설정\n",
    "# 위에서 만든 함수를 통해 시스템 폰트를 불러와서 font_family 라는 변수에 할당\n",
    "font_family = get_font_family()\n",
    "# 폰트설정\n",
    "plt.rc('font', family=font_family)\n",
    "# 마이너스폰트 설정\n",
    "plt.rc('axes', unicode_minus=False)\n",
    "# 그래프 스타일 설정\n",
    "plt.style.use('ggplot')\n",
    "# 그래프에 retina display 적용\n",
    "from IPython.display import set_matplotlib_formats\n",
    "set_matplotlib_formats('retina')"
   ]
  },
  {
   "cell_type": "markdown",
   "metadata": {},
   "source": [
    "* ## 랜덤 시드 설정 "
   ]
  },
  {
   "cell_type": "code",
   "execution_count": 3,
   "metadata": {},
   "outputs": [],
   "source": [
    "np.random.seed(42)"
   ]
  },
  {
   "cell_type": "markdown",
   "metadata": {},
   "source": [
    "* ## 데이터 불러오기"
   ]
  },
  {
   "cell_type": "code",
   "execution_count": 4,
   "metadata": {
    "scrolled": true
   },
   "outputs": [
    {
     "data": {
      "text/html": [
       "<div>\n",
       "<style scoped>\n",
       "    .dataframe tbody tr th:only-of-type {\n",
       "        vertical-align: middle;\n",
       "    }\n",
       "\n",
       "    .dataframe tbody tr th {\n",
       "        vertical-align: top;\n",
       "    }\n",
       "\n",
       "    .dataframe thead th {\n",
       "        text-align: right;\n",
       "    }\n",
       "</style>\n",
       "<table border=\"1\" class=\"dataframe\">\n",
       "  <thead>\n",
       "    <tr style=\"text-align: right;\">\n",
       "      <th></th>\n",
       "      <th>USER_ID</th>\n",
       "      <th>JOIN_DATE</th>\n",
       "      <th>D_TYPE</th>\n",
       "      <th>STORE_ID</th>\n",
       "      <th>GOODS_TYPE</th>\n",
       "      <th>DATE</th>\n",
       "      <th>COUNT</th>\n",
       "      <th>AD1</th>\n",
       "    </tr>\n",
       "  </thead>\n",
       "  <tbody>\n",
       "    <tr>\n",
       "      <th>0</th>\n",
       "      <td>2858</td>\n",
       "      <td>2014-01-07</td>\n",
       "      <td>AA</td>\n",
       "      <td>1892</td>\n",
       "      <td>A</td>\n",
       "      <td>2020-01-01</td>\n",
       "      <td>1</td>\n",
       "      <td>GN</td>\n",
       "    </tr>\n",
       "    <tr>\n",
       "      <th>1</th>\n",
       "      <td>5647</td>\n",
       "      <td>2014-02-14</td>\n",
       "      <td>BB</td>\n",
       "      <td>182009</td>\n",
       "      <td>A</td>\n",
       "      <td>2020-01-01</td>\n",
       "      <td>1</td>\n",
       "      <td>J</td>\n",
       "    </tr>\n",
       "    <tr>\n",
       "      <th>2</th>\n",
       "      <td>33314</td>\n",
       "      <td>2014-11-20</td>\n",
       "      <td>BB</td>\n",
       "      <td>82431</td>\n",
       "      <td>A</td>\n",
       "      <td>2020-01-01</td>\n",
       "      <td>1</td>\n",
       "      <td>SC</td>\n",
       "    </tr>\n",
       "    <tr>\n",
       "      <th>3</th>\n",
       "      <td>37001</td>\n",
       "      <td>2014-12-04</td>\n",
       "      <td>BB</td>\n",
       "      <td>725</td>\n",
       "      <td>C</td>\n",
       "      <td>2020-01-01</td>\n",
       "      <td>1</td>\n",
       "      <td>MP</td>\n",
       "    </tr>\n",
       "    <tr>\n",
       "      <th>4</th>\n",
       "      <td>37819</td>\n",
       "      <td>2014-12-07</td>\n",
       "      <td>AA</td>\n",
       "      <td>220691</td>\n",
       "      <td>C</td>\n",
       "      <td>2020-01-01</td>\n",
       "      <td>1</td>\n",
       "      <td>JRR</td>\n",
       "    </tr>\n",
       "    <tr>\n",
       "      <th>...</th>\n",
       "      <td>...</td>\n",
       "      <td>...</td>\n",
       "      <td>...</td>\n",
       "      <td>...</td>\n",
       "      <td>...</td>\n",
       "      <td>...</td>\n",
       "      <td>...</td>\n",
       "      <td>...</td>\n",
       "    </tr>\n",
       "    <tr>\n",
       "      <th>879266</th>\n",
       "      <td>1830551</td>\n",
       "      <td>2020-12-31</td>\n",
       "      <td>BB</td>\n",
       "      <td>219886</td>\n",
       "      <td>B</td>\n",
       "      <td>2020-12-31</td>\n",
       "      <td>1</td>\n",
       "      <td>GN</td>\n",
       "    </tr>\n",
       "    <tr>\n",
       "      <th>879267</th>\n",
       "      <td>1830570</td>\n",
       "      <td>2020-12-31</td>\n",
       "      <td>BB</td>\n",
       "      <td>82433</td>\n",
       "      <td>B</td>\n",
       "      <td>2020-12-31</td>\n",
       "      <td>1</td>\n",
       "      <td>CY</td>\n",
       "    </tr>\n",
       "    <tr>\n",
       "      <th>879268</th>\n",
       "      <td>1830580</td>\n",
       "      <td>2020-12-31</td>\n",
       "      <td>AA</td>\n",
       "      <td>92020</td>\n",
       "      <td>B</td>\n",
       "      <td>2020-12-31</td>\n",
       "      <td>1</td>\n",
       "      <td>JRR</td>\n",
       "    </tr>\n",
       "    <tr>\n",
       "      <th>879269</th>\n",
       "      <td>1830589</td>\n",
       "      <td>2020-12-31</td>\n",
       "      <td>BB</td>\n",
       "      <td>92437</td>\n",
       "      <td>B</td>\n",
       "      <td>2020-12-31</td>\n",
       "      <td>1</td>\n",
       "      <td>J</td>\n",
       "    </tr>\n",
       "    <tr>\n",
       "      <th>879270</th>\n",
       "      <td>1830598</td>\n",
       "      <td>2020-12-31</td>\n",
       "      <td>AA</td>\n",
       "      <td>220959</td>\n",
       "      <td>B</td>\n",
       "      <td>2020-12-31</td>\n",
       "      <td>1</td>\n",
       "      <td>SC</td>\n",
       "    </tr>\n",
       "  </tbody>\n",
       "</table>\n",
       "<p>879271 rows × 8 columns</p>\n",
       "</div>"
      ],
      "text/plain": [
       "        USER_ID   JOIN_DATE D_TYPE  STORE_ID GOODS_TYPE        DATE  COUNT  \\\n",
       "0          2858  2014-01-07     AA      1892          A  2020-01-01      1   \n",
       "1          5647  2014-02-14     BB    182009          A  2020-01-01      1   \n",
       "2         33314  2014-11-20     BB     82431          A  2020-01-01      1   \n",
       "3         37001  2014-12-04     BB       725          C  2020-01-01      1   \n",
       "4         37819  2014-12-07     AA    220691          C  2020-01-01      1   \n",
       "...         ...         ...    ...       ...        ...         ...    ...   \n",
       "879266  1830551  2020-12-31     BB    219886          B  2020-12-31      1   \n",
       "879267  1830570  2020-12-31     BB     82433          B  2020-12-31      1   \n",
       "879268  1830580  2020-12-31     AA     92020          B  2020-12-31      1   \n",
       "879269  1830589  2020-12-31     BB     92437          B  2020-12-31      1   \n",
       "879270  1830598  2020-12-31     AA    220959          B  2020-12-31      1   \n",
       "\n",
       "        AD1  \n",
       "0        GN  \n",
       "1         J  \n",
       "2        SC  \n",
       "3        MP  \n",
       "4       JRR  \n",
       "...     ...  \n",
       "879266   GN  \n",
       "879267   CY  \n",
       "879268  JRR  \n",
       "879269    J  \n",
       "879270   SC  \n",
       "\n",
       "[879271 rows x 8 columns]"
      ]
     },
     "execution_count": 4,
     "metadata": {},
     "output_type": "execute_result"
    }
   ],
   "source": [
    "df = pd.read_csv('./data/2nd/실전db.csv')\n",
    "df"
   ]
  },
  {
   "cell_type": "markdown",
   "metadata": {},
   "source": [
    "* ## 1970-01-01 전처리"
   ]
  },
  {
   "cell_type": "code",
   "execution_count": 5,
   "metadata": {},
   "outputs": [],
   "source": [
    "# 전처리\n",
    "# JOIN_DATE가 1970-01-01인 경우 => 2013-12-16\n",
    "df.loc[df['JOIN_DATE']=='1970-01-01', 'JOIN_DATE'] = '2013-12-16'"
   ]
  },
  {
   "cell_type": "code",
   "execution_count": 6,
   "metadata": {
    "scrolled": true
   },
   "outputs": [
    {
     "data": {
      "text/plain": [
       "176320    2013-12-16\n",
       "624928    2013-12-16\n",
       "625539    2013-12-16\n",
       "226658    2013-12-16\n",
       "226415    2013-12-16\n",
       "             ...    \n",
       "879214    2020-12-31\n",
       "879213    2020-12-31\n",
       "879212    2020-12-31\n",
       "879230    2020-12-31\n",
       "879270    2020-12-31\n",
       "Name: JOIN_DATE, Length: 879271, dtype: object"
      ]
     },
     "execution_count": 6,
     "metadata": {},
     "output_type": "execute_result"
    }
   ],
   "source": [
    "df['JOIN_DATE'].sort_values()"
   ]
  },
  {
   "cell_type": "markdown",
   "metadata": {},
   "source": [
    "* ## 파생변수 생성"
   ]
  },
  {
   "cell_type": "code",
   "execution_count": 7,
   "metadata": {
    "scrolled": true
   },
   "outputs": [
    {
     "data": {
      "text/html": [
       "<div>\n",
       "<style scoped>\n",
       "    .dataframe tbody tr th:only-of-type {\n",
       "        vertical-align: middle;\n",
       "    }\n",
       "\n",
       "    .dataframe tbody tr th {\n",
       "        vertical-align: top;\n",
       "    }\n",
       "\n",
       "    .dataframe thead th {\n",
       "        text-align: right;\n",
       "    }\n",
       "</style>\n",
       "<table border=\"1\" class=\"dataframe\">\n",
       "  <thead>\n",
       "    <tr style=\"text-align: right;\">\n",
       "      <th></th>\n",
       "      <th>USER_ID</th>\n",
       "      <th>JOIN_DATE</th>\n",
       "      <th>D_TYPE</th>\n",
       "      <th>STORE_ID</th>\n",
       "      <th>GOODS_TYPE</th>\n",
       "      <th>DATE</th>\n",
       "      <th>COUNT</th>\n",
       "      <th>AD1</th>\n",
       "      <th>ELAPSED_DAY</th>\n",
       "      <th>ELAPSED_TIME</th>\n",
       "      <th>ELAPSED_WEEK</th>\n",
       "    </tr>\n",
       "  </thead>\n",
       "  <tbody>\n",
       "    <tr>\n",
       "      <th>0</th>\n",
       "      <td>2858</td>\n",
       "      <td>2014-01-07</td>\n",
       "      <td>AA</td>\n",
       "      <td>1892</td>\n",
       "      <td>A</td>\n",
       "      <td>2020-01-01</td>\n",
       "      <td>1</td>\n",
       "      <td>GN</td>\n",
       "      <td>2185</td>\n",
       "      <td>3146400</td>\n",
       "      <td>313</td>\n",
       "    </tr>\n",
       "    <tr>\n",
       "      <th>1</th>\n",
       "      <td>5647</td>\n",
       "      <td>2014-02-14</td>\n",
       "      <td>BB</td>\n",
       "      <td>182009</td>\n",
       "      <td>A</td>\n",
       "      <td>2020-01-01</td>\n",
       "      <td>1</td>\n",
       "      <td>J</td>\n",
       "      <td>2147</td>\n",
       "      <td>3091680</td>\n",
       "      <td>307</td>\n",
       "    </tr>\n",
       "    <tr>\n",
       "      <th>2</th>\n",
       "      <td>33314</td>\n",
       "      <td>2014-11-20</td>\n",
       "      <td>BB</td>\n",
       "      <td>82431</td>\n",
       "      <td>A</td>\n",
       "      <td>2020-01-01</td>\n",
       "      <td>1</td>\n",
       "      <td>SC</td>\n",
       "      <td>1868</td>\n",
       "      <td>2689920</td>\n",
       "      <td>267</td>\n",
       "    </tr>\n",
       "    <tr>\n",
       "      <th>3</th>\n",
       "      <td>37001</td>\n",
       "      <td>2014-12-04</td>\n",
       "      <td>BB</td>\n",
       "      <td>725</td>\n",
       "      <td>C</td>\n",
       "      <td>2020-01-01</td>\n",
       "      <td>1</td>\n",
       "      <td>MP</td>\n",
       "      <td>1854</td>\n",
       "      <td>2669760</td>\n",
       "      <td>265</td>\n",
       "    </tr>\n",
       "    <tr>\n",
       "      <th>4</th>\n",
       "      <td>37819</td>\n",
       "      <td>2014-12-07</td>\n",
       "      <td>AA</td>\n",
       "      <td>220691</td>\n",
       "      <td>C</td>\n",
       "      <td>2020-01-01</td>\n",
       "      <td>1</td>\n",
       "      <td>JRR</td>\n",
       "      <td>1851</td>\n",
       "      <td>2665440</td>\n",
       "      <td>265</td>\n",
       "    </tr>\n",
       "    <tr>\n",
       "      <th>...</th>\n",
       "      <td>...</td>\n",
       "      <td>...</td>\n",
       "      <td>...</td>\n",
       "      <td>...</td>\n",
       "      <td>...</td>\n",
       "      <td>...</td>\n",
       "      <td>...</td>\n",
       "      <td>...</td>\n",
       "      <td>...</td>\n",
       "      <td>...</td>\n",
       "      <td>...</td>\n",
       "    </tr>\n",
       "    <tr>\n",
       "      <th>879266</th>\n",
       "      <td>1830551</td>\n",
       "      <td>2020-12-31</td>\n",
       "      <td>BB</td>\n",
       "      <td>219886</td>\n",
       "      <td>B</td>\n",
       "      <td>2020-12-31</td>\n",
       "      <td>1</td>\n",
       "      <td>GN</td>\n",
       "      <td>0</td>\n",
       "      <td>0</td>\n",
       "      <td>0</td>\n",
       "    </tr>\n",
       "    <tr>\n",
       "      <th>879267</th>\n",
       "      <td>1830570</td>\n",
       "      <td>2020-12-31</td>\n",
       "      <td>BB</td>\n",
       "      <td>82433</td>\n",
       "      <td>B</td>\n",
       "      <td>2020-12-31</td>\n",
       "      <td>1</td>\n",
       "      <td>CY</td>\n",
       "      <td>0</td>\n",
       "      <td>0</td>\n",
       "      <td>0</td>\n",
       "    </tr>\n",
       "    <tr>\n",
       "      <th>879268</th>\n",
       "      <td>1830580</td>\n",
       "      <td>2020-12-31</td>\n",
       "      <td>AA</td>\n",
       "      <td>92020</td>\n",
       "      <td>B</td>\n",
       "      <td>2020-12-31</td>\n",
       "      <td>1</td>\n",
       "      <td>JRR</td>\n",
       "      <td>0</td>\n",
       "      <td>0</td>\n",
       "      <td>0</td>\n",
       "    </tr>\n",
       "    <tr>\n",
       "      <th>879269</th>\n",
       "      <td>1830589</td>\n",
       "      <td>2020-12-31</td>\n",
       "      <td>BB</td>\n",
       "      <td>92437</td>\n",
       "      <td>B</td>\n",
       "      <td>2020-12-31</td>\n",
       "      <td>1</td>\n",
       "      <td>J</td>\n",
       "      <td>0</td>\n",
       "      <td>0</td>\n",
       "      <td>0</td>\n",
       "    </tr>\n",
       "    <tr>\n",
       "      <th>879270</th>\n",
       "      <td>1830598</td>\n",
       "      <td>2020-12-31</td>\n",
       "      <td>AA</td>\n",
       "      <td>220959</td>\n",
       "      <td>B</td>\n",
       "      <td>2020-12-31</td>\n",
       "      <td>1</td>\n",
       "      <td>SC</td>\n",
       "      <td>0</td>\n",
       "      <td>0</td>\n",
       "      <td>0</td>\n",
       "    </tr>\n",
       "  </tbody>\n",
       "</table>\n",
       "<p>879271 rows × 11 columns</p>\n",
       "</div>"
      ],
      "text/plain": [
       "        USER_ID  JOIN_DATE D_TYPE  STORE_ID GOODS_TYPE       DATE  COUNT  AD1  \\\n",
       "0          2858 2014-01-07     AA      1892          A 2020-01-01      1   GN   \n",
       "1          5647 2014-02-14     BB    182009          A 2020-01-01      1    J   \n",
       "2         33314 2014-11-20     BB     82431          A 2020-01-01      1   SC   \n",
       "3         37001 2014-12-04     BB       725          C 2020-01-01      1   MP   \n",
       "4         37819 2014-12-07     AA    220691          C 2020-01-01      1  JRR   \n",
       "...         ...        ...    ...       ...        ...        ...    ...  ...   \n",
       "879266  1830551 2020-12-31     BB    219886          B 2020-12-31      1   GN   \n",
       "879267  1830570 2020-12-31     BB     82433          B 2020-12-31      1   CY   \n",
       "879268  1830580 2020-12-31     AA     92020          B 2020-12-31      1  JRR   \n",
       "879269  1830589 2020-12-31     BB     92437          B 2020-12-31      1    J   \n",
       "879270  1830598 2020-12-31     AA    220959          B 2020-12-31      1   SC   \n",
       "\n",
       "        ELAPSED_DAY  ELAPSED_TIME  ELAPSED_WEEK  \n",
       "0              2185       3146400           313  \n",
       "1              2147       3091680           307  \n",
       "2              1868       2689920           267  \n",
       "3              1854       2669760           265  \n",
       "4              1851       2665440           265  \n",
       "...             ...           ...           ...  \n",
       "879266            0             0             0  \n",
       "879267            0             0             0  \n",
       "879268            0             0             0  \n",
       "879269            0             0             0  \n",
       "879270            0             0             0  \n",
       "\n",
       "[879271 rows x 11 columns]"
      ]
     },
     "execution_count": 7,
     "metadata": {},
     "output_type": "execute_result"
    }
   ],
   "source": [
    "df['JOIN_DATE'] = pd.to_datetime(df['JOIN_DATE'])\n",
    "df['DATE'] = pd.to_datetime(df['DATE'])\n",
    "df['ELAPSED_DAY'] = (df['DATE']-df['JOIN_DATE']).dt.days\n",
    "df['ELAPSED_TIME'] = df['ELAPSED_DAY']*24 *60\n",
    "df['ELAPSED_WEEK'] = (df['ELAPSED_DAY'] -1)//7 + 1\n",
    "\n",
    "df"
   ]
  },
  {
   "cell_type": "code",
   "execution_count": 129,
   "metadata": {},
   "outputs": [
    {
     "data": {
      "text/html": [
       "<div>\n",
       "<style scoped>\n",
       "    .dataframe tbody tr th:only-of-type {\n",
       "        vertical-align: middle;\n",
       "    }\n",
       "\n",
       "    .dataframe tbody tr th {\n",
       "        vertical-align: top;\n",
       "    }\n",
       "\n",
       "    .dataframe thead th {\n",
       "        text-align: right;\n",
       "    }\n",
       "</style>\n",
       "<table border=\"1\" class=\"dataframe\">\n",
       "  <thead>\n",
       "    <tr style=\"text-align: right;\">\n",
       "      <th></th>\n",
       "      <th>USER_ID</th>\n",
       "      <th>JOIN_DATE</th>\n",
       "      <th>D_TYPE</th>\n",
       "      <th>STORE_ID</th>\n",
       "      <th>GOODS_TYPE</th>\n",
       "      <th>DATE</th>\n",
       "      <th>COUNT</th>\n",
       "      <th>AD1</th>\n",
       "      <th>ELAPSED_DAY</th>\n",
       "      <th>ELAPSED_TIME</th>\n",
       "      <th>ELAPSED_WEEK</th>\n",
       "      <th>DoW</th>\n",
       "      <th>MONTH</th>\n",
       "      <th>DAY</th>\n",
       "    </tr>\n",
       "  </thead>\n",
       "  <tbody>\n",
       "    <tr>\n",
       "      <th>0</th>\n",
       "      <td>2858</td>\n",
       "      <td>2014-01-07</td>\n",
       "      <td>AA</td>\n",
       "      <td>1892</td>\n",
       "      <td>A</td>\n",
       "      <td>2020-01-01</td>\n",
       "      <td>1</td>\n",
       "      <td>GN</td>\n",
       "      <td>2185</td>\n",
       "      <td>3146400</td>\n",
       "      <td>313</td>\n",
       "      <td>Wednesday</td>\n",
       "      <td>1</td>\n",
       "      <td>1</td>\n",
       "    </tr>\n",
       "    <tr>\n",
       "      <th>1</th>\n",
       "      <td>5647</td>\n",
       "      <td>2014-02-14</td>\n",
       "      <td>BB</td>\n",
       "      <td>182009</td>\n",
       "      <td>A</td>\n",
       "      <td>2020-01-01</td>\n",
       "      <td>1</td>\n",
       "      <td>J</td>\n",
       "      <td>2147</td>\n",
       "      <td>3091680</td>\n",
       "      <td>307</td>\n",
       "      <td>Wednesday</td>\n",
       "      <td>1</td>\n",
       "      <td>1</td>\n",
       "    </tr>\n",
       "    <tr>\n",
       "      <th>2</th>\n",
       "      <td>33314</td>\n",
       "      <td>2014-11-20</td>\n",
       "      <td>BB</td>\n",
       "      <td>82431</td>\n",
       "      <td>A</td>\n",
       "      <td>2020-01-01</td>\n",
       "      <td>1</td>\n",
       "      <td>SC</td>\n",
       "      <td>1868</td>\n",
       "      <td>2689920</td>\n",
       "      <td>267</td>\n",
       "      <td>Wednesday</td>\n",
       "      <td>1</td>\n",
       "      <td>1</td>\n",
       "    </tr>\n",
       "    <tr>\n",
       "      <th>3</th>\n",
       "      <td>37001</td>\n",
       "      <td>2014-12-04</td>\n",
       "      <td>BB</td>\n",
       "      <td>725</td>\n",
       "      <td>C</td>\n",
       "      <td>2020-01-01</td>\n",
       "      <td>1</td>\n",
       "      <td>MP</td>\n",
       "      <td>1854</td>\n",
       "      <td>2669760</td>\n",
       "      <td>265</td>\n",
       "      <td>Wednesday</td>\n",
       "      <td>1</td>\n",
       "      <td>1</td>\n",
       "    </tr>\n",
       "    <tr>\n",
       "      <th>4</th>\n",
       "      <td>37819</td>\n",
       "      <td>2014-12-07</td>\n",
       "      <td>AA</td>\n",
       "      <td>220691</td>\n",
       "      <td>C</td>\n",
       "      <td>2020-01-01</td>\n",
       "      <td>1</td>\n",
       "      <td>JRR</td>\n",
       "      <td>1851</td>\n",
       "      <td>2665440</td>\n",
       "      <td>265</td>\n",
       "      <td>Wednesday</td>\n",
       "      <td>1</td>\n",
       "      <td>1</td>\n",
       "    </tr>\n",
       "    <tr>\n",
       "      <th>...</th>\n",
       "      <td>...</td>\n",
       "      <td>...</td>\n",
       "      <td>...</td>\n",
       "      <td>...</td>\n",
       "      <td>...</td>\n",
       "      <td>...</td>\n",
       "      <td>...</td>\n",
       "      <td>...</td>\n",
       "      <td>...</td>\n",
       "      <td>...</td>\n",
       "      <td>...</td>\n",
       "      <td>...</td>\n",
       "      <td>...</td>\n",
       "      <td>...</td>\n",
       "    </tr>\n",
       "    <tr>\n",
       "      <th>879266</th>\n",
       "      <td>1830551</td>\n",
       "      <td>2020-12-31</td>\n",
       "      <td>BB</td>\n",
       "      <td>219886</td>\n",
       "      <td>B</td>\n",
       "      <td>2020-12-31</td>\n",
       "      <td>1</td>\n",
       "      <td>GN</td>\n",
       "      <td>0</td>\n",
       "      <td>0</td>\n",
       "      <td>0</td>\n",
       "      <td>Thursday</td>\n",
       "      <td>12</td>\n",
       "      <td>31</td>\n",
       "    </tr>\n",
       "    <tr>\n",
       "      <th>879267</th>\n",
       "      <td>1830570</td>\n",
       "      <td>2020-12-31</td>\n",
       "      <td>BB</td>\n",
       "      <td>82433</td>\n",
       "      <td>B</td>\n",
       "      <td>2020-12-31</td>\n",
       "      <td>1</td>\n",
       "      <td>CY</td>\n",
       "      <td>0</td>\n",
       "      <td>0</td>\n",
       "      <td>0</td>\n",
       "      <td>Thursday</td>\n",
       "      <td>12</td>\n",
       "      <td>31</td>\n",
       "    </tr>\n",
       "    <tr>\n",
       "      <th>879268</th>\n",
       "      <td>1830580</td>\n",
       "      <td>2020-12-31</td>\n",
       "      <td>AA</td>\n",
       "      <td>92020</td>\n",
       "      <td>B</td>\n",
       "      <td>2020-12-31</td>\n",
       "      <td>1</td>\n",
       "      <td>JRR</td>\n",
       "      <td>0</td>\n",
       "      <td>0</td>\n",
       "      <td>0</td>\n",
       "      <td>Thursday</td>\n",
       "      <td>12</td>\n",
       "      <td>31</td>\n",
       "    </tr>\n",
       "    <tr>\n",
       "      <th>879269</th>\n",
       "      <td>1830589</td>\n",
       "      <td>2020-12-31</td>\n",
       "      <td>BB</td>\n",
       "      <td>92437</td>\n",
       "      <td>B</td>\n",
       "      <td>2020-12-31</td>\n",
       "      <td>1</td>\n",
       "      <td>J</td>\n",
       "      <td>0</td>\n",
       "      <td>0</td>\n",
       "      <td>0</td>\n",
       "      <td>Thursday</td>\n",
       "      <td>12</td>\n",
       "      <td>31</td>\n",
       "    </tr>\n",
       "    <tr>\n",
       "      <th>879270</th>\n",
       "      <td>1830598</td>\n",
       "      <td>2020-12-31</td>\n",
       "      <td>AA</td>\n",
       "      <td>220959</td>\n",
       "      <td>B</td>\n",
       "      <td>2020-12-31</td>\n",
       "      <td>1</td>\n",
       "      <td>SC</td>\n",
       "      <td>0</td>\n",
       "      <td>0</td>\n",
       "      <td>0</td>\n",
       "      <td>Thursday</td>\n",
       "      <td>12</td>\n",
       "      <td>31</td>\n",
       "    </tr>\n",
       "  </tbody>\n",
       "</table>\n",
       "<p>879271 rows × 14 columns</p>\n",
       "</div>"
      ],
      "text/plain": [
       "        USER_ID  JOIN_DATE D_TYPE  STORE_ID GOODS_TYPE       DATE  COUNT  AD1  \\\n",
       "0          2858 2014-01-07     AA      1892          A 2020-01-01      1   GN   \n",
       "1          5647 2014-02-14     BB    182009          A 2020-01-01      1    J   \n",
       "2         33314 2014-11-20     BB     82431          A 2020-01-01      1   SC   \n",
       "3         37001 2014-12-04     BB       725          C 2020-01-01      1   MP   \n",
       "4         37819 2014-12-07     AA    220691          C 2020-01-01      1  JRR   \n",
       "...         ...        ...    ...       ...        ...        ...    ...  ...   \n",
       "879266  1830551 2020-12-31     BB    219886          B 2020-12-31      1   GN   \n",
       "879267  1830570 2020-12-31     BB     82433          B 2020-12-31      1   CY   \n",
       "879268  1830580 2020-12-31     AA     92020          B 2020-12-31      1  JRR   \n",
       "879269  1830589 2020-12-31     BB     92437          B 2020-12-31      1    J   \n",
       "879270  1830598 2020-12-31     AA    220959          B 2020-12-31      1   SC   \n",
       "\n",
       "        ELAPSED_DAY  ELAPSED_TIME  ELAPSED_WEEK        DoW  MONTH  DAY  \n",
       "0              2185       3146400           313  Wednesday      1    1  \n",
       "1              2147       3091680           307  Wednesday      1    1  \n",
       "2              1868       2689920           267  Wednesday      1    1  \n",
       "3              1854       2669760           265  Wednesday      1    1  \n",
       "4              1851       2665440           265  Wednesday      1    1  \n",
       "...             ...           ...           ...        ...    ...  ...  \n",
       "879266            0             0             0   Thursday     12   31  \n",
       "879267            0             0             0   Thursday     12   31  \n",
       "879268            0             0             0   Thursday     12   31  \n",
       "879269            0             0             0   Thursday     12   31  \n",
       "879270            0             0             0   Thursday     12   31  \n",
       "\n",
       "[879271 rows x 14 columns]"
      ]
     },
     "execution_count": 129,
     "metadata": {},
     "output_type": "execute_result"
    }
   ],
   "source": [
    "df['DoW'] = df['DATE'].dt.day_name()\n",
    "df['MONTH'] = df['DATE'].dt.month\n",
    "df['DAY'] = df['DATE'].dt.day\n",
    "\n",
    "\n",
    "df"
   ]
  },
  {
   "cell_type": "markdown",
   "metadata": {},
   "source": [
    "# Training"
   ]
  },
  {
   "cell_type": "markdown",
   "metadata": {},
   "source": [
    "* ## 기본 feature"
   ]
  },
  {
   "cell_type": "code",
   "execution_count": 14,
   "metadata": {},
   "outputs": [
    {
     "name": "stdout",
     "output_type": "stream",
     "text": [
      "mse : 0.15257267485542553\n",
      "rmse : 0.3906055233293886\n"
     ]
    }
   ],
   "source": [
    "from sklearn.compose import ColumnTransformer\n",
    "from sklearn.preprocessing import OrdinalEncoder\n",
    "from sklearn.ensemble import RandomForestRegressor\n",
    "from sklearn.model_selection import KFold\n",
    "from sklearn.model_selection import cross_val_score\n",
    "from sklearn.metrics import mean_squared_error\n",
    "\n",
    "feature = ['D_TYPE', 'GOODS_TYPE', 'AD1', 'COUNT']\n",
    "df_new = df.loc[:,feature]\n",
    "\n",
    "train_data = df_new.iloc[:623579]\n",
    "test_data = df_new.iloc[623579:]\n",
    "\n",
    "ct = ColumnTransformer([('label', OrdinalEncoder(), ['AD1', 'D_TYPE', 'GOODS_TYPE'])])\n",
    "\n",
    "x_train, t_train = train_data.drop('COUNT', axis=1), train_data['COUNT']\n",
    "x_test, t_test = test_data.drop('COUNT', axis=1), test_data['COUNT'] \n",
    "\n",
    "x_train_trans = ct.fit_transform(x_train)\n",
    "x_test_trans = ct.fit_transform(x_test)\n",
    "\n",
    "t_train = t_train.values.ravel()\n",
    "t_test = t_test.values.ravel()\n",
    "\n",
    "model = RandomForestRegressor()\n",
    "kfold = 5\n",
    "kfold_score = cross_val_score(model, x_train_trans, t_train, cv=kfold, scoring='neg_mean_squared_error')\n",
    "print(f'mse : {np.mean(-kfold_score)}')\n",
    "print(f'rmse : {np.sqrt(np.mean(-kfold_score))}')"
   ]
  },
  {
   "cell_type": "markdown",
   "metadata": {},
   "source": [
    "* ## 기본 feature + 경과 시간"
   ]
  },
  {
   "cell_type": "code",
   "execution_count": 120,
   "metadata": {},
   "outputs": [
    {
     "name": "stdout",
     "output_type": "stream",
     "text": [
      "mse : 0.1520019678798766\n",
      "rmse : 0.38987429753688124\n"
     ]
    }
   ],
   "source": [
    "from sklearn.compose import ColumnTransformer\n",
    "from sklearn.preprocessing import OrdinalEncoder\n",
    "from sklearn.ensemble import RandomForestRegressor\n",
    "from sklearn.model_selection import KFold\n",
    "from sklearn.model_selection import cross_val_score\n",
    "from sklearn.metrics import mean_squared_error\n",
    "\n",
    "feature = ['D_TYPE', 'GOODS_TYPE', 'AD1','ELAPSED_TIME', 'COUNT']\n",
    "df_new = df.loc[:,feature]\n",
    "\n",
    "train_data = df_new.iloc[:623579]\n",
    "test_data = df_new.iloc[623579:]\n",
    "\n",
    "ct = ColumnTransformer([('label', OrdinalEncoder(), ['AD1', 'D_TYPE', 'GOODS_TYPE'])])\n",
    "\n",
    "x_train, t_train = train_data.drop('COUNT', axis=1), train_data['COUNT']\n",
    "x_test, t_test = test_data.drop('COUNT', axis=1), test_data['COUNT'] \n",
    "\n",
    "x_train_trans = ct.fit_transform(x_train)\n",
    "x_test_trans = ct.fit_transform(x_test)\n",
    "\n",
    "t_train = t_train.values.ravel()\n",
    "t_test = t_test.values.ravel()\n",
    "\n",
    "model = RandomForestRegressor()\n",
    "kfold = 5\n",
    "kfold_score = cross_val_score(model, x_train_trans, t_train, cv=kfold, scoring='neg_mean_squared_error')\n",
    "print(f'mse : {np.mean(-kfold_score)}')\n",
    "print(f'rmse : {np.sqrt(np.mean(-kfold_score))}')"
   ]
  },
  {
   "cell_type": "code",
   "execution_count": 9,
   "metadata": {},
   "outputs": [
    {
     "data": {
      "text/plain": [
       "40.0"
      ]
     },
     "execution_count": 9,
     "metadata": {},
     "output_type": "execute_result"
    }
   ],
   "source": [
    "x_train_trans[25,0]\n",
    "# 25 -> 40"
   ]
  },
  {
   "cell_type": "code",
   "execution_count": 10,
   "metadata": {},
   "outputs": [
    {
     "data": {
      "text/plain": [
       "D_TYPE               AA\n",
       "GOODS_TYPE            C\n",
       "AD1                 GSN\n",
       "ELAPSED_TIME    2223360\n",
       "Name: 25, dtype: object"
      ]
     },
     "execution_count": 10,
     "metadata": {},
     "output_type": "execute_result"
    }
   ],
   "source": [
    "x_train.iloc[25,:]"
   ]
  },
  {
   "cell_type": "code",
   "execution_count": 11,
   "metadata": {},
   "outputs": [
    {
     "data": {
      "text/plain": [
       "40.0"
      ]
     },
     "execution_count": 11,
     "metadata": {},
     "output_type": "execute_result"
    }
   ],
   "source": [
    "x_test_trans[7,0]\n",
    "# 7->40"
   ]
  },
  {
   "cell_type": "code",
   "execution_count": 12,
   "metadata": {},
   "outputs": [
    {
     "data": {
      "text/plain": [
       "D_TYPE               AA\n",
       "GOODS_TYPE            A\n",
       "AD1                  GN\n",
       "ELAPSED_TIME    2630880\n",
       "Name: 623586, dtype: object"
      ]
     },
     "execution_count": 12,
     "metadata": {},
     "output_type": "execute_result"
    }
   ],
   "source": [
    "x_test.iloc[7,:]"
   ]
  },
  {
   "cell_type": "code",
   "execution_count": 13,
   "metadata": {},
   "outputs": [
    {
     "name": "stdout",
     "output_type": "stream",
     "text": [
      "[1.01643854 1.         1.01710165 ... 1.00780778 1.01002873 1.        ]\n",
      "mse : 0.4361751328246167\n",
      "rmse : 0.6604355629617599\n"
     ]
    }
   ],
   "source": [
    "model.fit(x_train_trans, t_train)\n",
    "pred = model.predict(x_test_trans)\n",
    "print(pred)\n",
    "print('mse :',mean_squared_error(pred, t_test))\n",
    "print('rmse :',np.sqrt(mean_squared_error(pred, t_test)))"
   ]
  },
  {
   "cell_type": "code",
   "execution_count": 49,
   "metadata": {},
   "outputs": [
    {
     "data": {
      "text/plain": [
       "array([[37,  0,  0],\n",
       "       [46,  1,  0],\n",
       "       [60,  1,  0],\n",
       "       ...,\n",
       "       [ 3,  0,  1],\n",
       "       [48,  1,  0],\n",
       "       [60,  0,  0]])"
      ]
     },
     "execution_count": 49,
     "metadata": {},
     "output_type": "execute_result"
    }
   ],
   "source": [
    "x_train_trans.astype(int)"
   ]
  },
  {
   "cell_type": "markdown",
   "metadata": {},
   "source": [
    "* ## 기본 feature + 경과 일"
   ]
  },
  {
   "cell_type": "code",
   "execution_count": 118,
   "metadata": {},
   "outputs": [
    {
     "name": "stdout",
     "output_type": "stream",
     "text": [
      "mse : 0.09996416428325908\n",
      "rmse : 0.3161710996964445\n"
     ]
    }
   ],
   "source": [
    "from sklearn.compose import ColumnTransformer\n",
    "from sklearn.preprocessing import OrdinalEncoder\n",
    "from sklearn.ensemble import RandomForestRegressor\n",
    "from sklearn.model_selection import KFold\n",
    "from sklearn.model_selection import cross_val_score\n",
    "from sklearn.metrics import mean_squared_error\n",
    "\n",
    "feature = ['D_TYPE', 'GOODS_TYPE', 'AD1','ELAPSED_DAY', 'COUNT']\n",
    "df_new = df.loc[:,feature]\n",
    "\n",
    "train_data = df_new.iloc[:623579]\n",
    "test_data = df_new.iloc[623579:]\n",
    "\n",
    "ct = ColumnTransformer([('label', OrdinalEncoder(), ['AD1', 'D_TYPE', 'GOODS_TYPE'])], remainder='passthrough')\n",
    "\n",
    "x_train, t_train = train_data.drop('COUNT', axis=1), train_data['COUNT']\n",
    "x_test, t_test = test_data.drop('COUNT', axis=1), test_data['COUNT'] \n",
    "\n",
    "x_train_trans = ct.fit_transform(x_train).astype(int)\n",
    "x_test_trans = ct.fit_transform(x_test).astype(int)\n",
    "\n",
    "t_train = t_train.values.ravel()\n",
    "t_test = t_test.values.ravel()\n",
    "\n",
    "model = RandomForestRegressor()\n",
    "kfold = 5\n",
    "kfold_score = cross_val_score(model, x_train_trans, t_train, cv=kfold, scoring='neg_mean_squared_error')\n",
    "print(f'mse : {np.mean(-kfold_score)}')\n",
    "print(f'rmse : {np.sqrt(np.mean(-kfold_score))}')"
   ]
  },
  {
   "cell_type": "markdown",
   "metadata": {},
   "source": [
    "* ## 기본 feature + 경과 주"
   ]
  },
  {
   "cell_type": "code",
   "execution_count": 119,
   "metadata": {},
   "outputs": [
    {
     "name": "stdout",
     "output_type": "stream",
     "text": [
      "mse : 0.09711903510574284\n",
      "rmse : 0.3116392708015837\n"
     ]
    }
   ],
   "source": [
    "from sklearn.compose import ColumnTransformer\n",
    "from sklearn.preprocessing import OrdinalEncoder\n",
    "from sklearn.ensemble import RandomForestRegressor\n",
    "from sklearn.model_selection import KFold, cross_val_score\n",
    "from sklearn.metrics import mean_squared_error\n",
    "\n",
    "feature = ['D_TYPE', 'GOODS_TYPE', 'AD1','ELAPSED_WEEK', 'COUNT']\n",
    "df_new = df.loc[:,feature]\n",
    "\n",
    "train_data = df_new.iloc[:623579]\n",
    "test_data = df_new.iloc[623579:]\n",
    "\n",
    "ct = ColumnTransformer([('label', OrdinalEncoder(), ['AD1', 'D_TYPE', 'GOODS_TYPE'])], remainder='passthrough')\n",
    "\n",
    "x_train, t_train = train_data.drop('COUNT', axis=1), train_data['COUNT']\n",
    "x_test, t_test = test_data.drop('COUNT', axis=1), test_data['COUNT'] \n",
    "\n",
    "x_train_trans = ct.fit_transform(x_train)\n",
    "x_test_trans = ct.fit_transform(x_test)\n",
    "\n",
    "t_train = t_train.values.ravel()\n",
    "t_test = t_test.values.ravel()\n",
    "\n",
    "model = RandomForestRegressor()\n",
    "kfold = 5\n",
    "kfold_score = cross_val_score(model, x_train_trans, t_train, cv=kfold, scoring='neg_mean_squared_error')\n",
    "print(f'mse : {np.mean(-kfold_score)}')\n",
    "print(f'rmse : {np.sqrt(np.mean(-kfold_score))}')"
   ]
  },
  {
   "cell_type": "markdown",
   "metadata": {},
   "source": [
    "* ## 기본 feature + 요일"
   ]
  },
  {
   "cell_type": "code",
   "execution_count": 126,
   "metadata": {},
   "outputs": [
    {
     "name": "stdout",
     "output_type": "stream",
     "text": [
      "mse : 0.1589742144782981\n",
      "rmse : 0.3987157063351005\n"
     ]
    }
   ],
   "source": [
    "from sklearn.compose import ColumnTransformer\n",
    "from sklearn.preprocessing import OrdinalEncoder\n",
    "from sklearn.ensemble import RandomForestRegressor\n",
    "from sklearn.model_selection import KFold, cross_val_score\n",
    "from sklearn.metrics import mean_squared_error\n",
    "\n",
    "feature = ['D_TYPE', 'GOODS_TYPE', 'AD1','DoW', 'COUNT']\n",
    "df_new = df.loc[:,feature]\n",
    "\n",
    "train_data = df_new.iloc[:623579]\n",
    "test_data = df_new.iloc[623579:]\n",
    "\n",
    "ct = ColumnTransformer([('label', OrdinalEncoder(), ['AD1', 'D_TYPE', 'GOODS_TYPE', 'DoW'])], remainder='passthrough')\n",
    "\n",
    "x_train, t_train = train_data.drop('COUNT', axis=1), train_data['COUNT']\n",
    "x_test, t_test = test_data.drop('COUNT', axis=1), test_data['COUNT'] \n",
    "\n",
    "x_train_trans = ct.fit_transform(x_train)\n",
    "x_test_trans = ct.fit_transform(x_test)\n",
    "\n",
    "t_train = t_train.values.ravel()\n",
    "t_test = t_test.values.ravel()\n",
    "\n",
    "model = RandomForestRegressor()\n",
    "kfold = 5\n",
    "kfold_score = cross_val_score(model, x_train_trans, t_train, cv=kfold, scoring='neg_mean_squared_error')\n",
    "print(f'mse : {np.mean(-kfold_score)}')\n",
    "print(f'rmse : {np.sqrt(np.mean(-kfold_score))}')"
   ]
  },
  {
   "cell_type": "markdown",
   "metadata": {},
   "source": [
    "* ## 기본 feature + 경과 주 + 경과 일"
   ]
  },
  {
   "cell_type": "code",
   "execution_count": 122,
   "metadata": {},
   "outputs": [
    {
     "name": "stdout",
     "output_type": "stream",
     "text": [
      "mse : 0.10068684631434041\n",
      "rmse : 0.3173119069848158\n"
     ]
    }
   ],
   "source": [
    "from sklearn.compose import ColumnTransformer\n",
    "from sklearn.preprocessing import OrdinalEncoder\n",
    "from sklearn.ensemble import RandomForestRegressor\n",
    "from sklearn.model_selection import KFold, cross_val_score\n",
    "from sklearn.metrics import mean_squared_error\n",
    "\n",
    "feature = ['D_TYPE', 'GOODS_TYPE', 'AD1','ELAPSED_WEEK','ELAPSED_DAY', 'COUNT']\n",
    "df_new = df.loc[:,feature]\n",
    "\n",
    "train_data = df_new.iloc[:623579]\n",
    "test_data = df_new.iloc[623579:]\n",
    "\n",
    "ct = ColumnTransformer([('label', OrdinalEncoder(), ['AD1', 'D_TYPE', 'GOODS_TYPE'])], remainder='passthrough')\n",
    "\n",
    "x_train, t_train = train_data.drop('COUNT', axis=1), train_data['COUNT']\n",
    "x_test, t_test = test_data.drop('COUNT', axis=1), test_data['COUNT'] \n",
    "\n",
    "x_train_trans = ct.fit_transform(x_train)\n",
    "x_test_trans = ct.fit_transform(x_test)\n",
    "\n",
    "t_train = t_train.values.ravel()\n",
    "t_test = t_test.values.ravel()\n",
    "\n",
    "model = RandomForestRegressor()\n",
    "kfold = 5\n",
    "kfold_score = cross_val_score(model, x_train_trans, t_train, cv=kfold, scoring='neg_mean_squared_error')\n",
    "print(f'mse : {np.mean(-kfold_score)}')\n",
    "print(f'rmse : {np.sqrt(np.mean(-kfold_score))}')"
   ]
  },
  {
   "cell_type": "markdown",
   "metadata": {},
   "source": [
    "* ## 기본 feature + 경과 주 + 요일"
   ]
  },
  {
   "cell_type": "code",
   "execution_count": 128,
   "metadata": {},
   "outputs": [
    {
     "name": "stdout",
     "output_type": "stream",
     "text": [
      "mse : 0.09258063373448311\n",
      "rmse : 0.3042706586815152\n"
     ]
    }
   ],
   "source": [
    "from sklearn.compose import ColumnTransformer\n",
    "from sklearn.preprocessing import OrdinalEncoder\n",
    "from sklearn.ensemble import RandomForestRegressor\n",
    "from sklearn.model_selection import KFold, cross_val_score\n",
    "from sklearn.metrics import mean_squared_error\n",
    "\n",
    "feature = ['D_TYPE', 'GOODS_TYPE', 'AD1','DoW', 'COUNT', 'ELAPSED_WEEK']\n",
    "df_new = df.loc[:,feature]\n",
    "\n",
    "train_data = df_new.iloc[:623579]\n",
    "test_data = df_new.iloc[623579:]\n",
    "\n",
    "ct = ColumnTransformer([('label', OrdinalEncoder(), ['AD1', 'D_TYPE', 'GOODS_TYPE', 'DoW'])], remainder='passthrough')\n",
    "\n",
    "x_train, t_train = train_data.drop('COUNT', axis=1), train_data['COUNT']\n",
    "x_test, t_test = test_data.drop('COUNT', axis=1), test_data['COUNT'] \n",
    "\n",
    "x_train_trans = ct.fit_transform(x_train)\n",
    "x_test_trans = ct.fit_transform(x_test)\n",
    "\n",
    "t_train = t_train.values.ravel()\n",
    "t_test = t_test.values.ravel()\n",
    "\n",
    "model = RandomForestRegressor()\n",
    "kfold = 5\n",
    "kfold_score = cross_val_score(model, x_train_trans, t_train, cv=kfold, scoring='neg_mean_squared_error')\n",
    "print(f'mse : {np.mean(-kfold_score)}')\n",
    "print(f'rmse : {np.sqrt(np.mean(-kfold_score))}')"
   ]
  },
  {
   "cell_type": "markdown",
   "metadata": {},
   "source": [
    "* ## 기본 feature + 경과 주 + 달 + 일 + 요일"
   ]
  },
  {
   "cell_type": "code",
   "execution_count": 130,
   "metadata": {},
   "outputs": [
    {
     "name": "stdout",
     "output_type": "stream",
     "text": [
      "mse : 0.0773188646053536\n",
      "rmse : 0.27806269905428455\n"
     ]
    }
   ],
   "source": [
    "from sklearn.compose import ColumnTransformer\n",
    "from sklearn.preprocessing import OrdinalEncoder\n",
    "from sklearn.ensemble import RandomForestRegressor\n",
    "from sklearn.model_selection import KFold, cross_val_score\n",
    "from sklearn.metrics import mean_squared_error\n",
    "\n",
    "feature = ['D_TYPE', 'GOODS_TYPE', 'AD1','DoW','MONTH', 'DAY','COUNT', 'ELAPSED_WEEK']\n",
    "df_new = df.loc[:,feature]\n",
    "\n",
    "train_data = df_new.iloc[:623579]\n",
    "test_data = df_new.iloc[623579:]\n",
    "\n",
    "ct = ColumnTransformer([('label', OrdinalEncoder(), ['AD1', 'D_TYPE', 'GOODS_TYPE', 'DoW'])], remainder='passthrough')\n",
    "\n",
    "x_train, t_train = train_data.drop('COUNT', axis=1), train_data['COUNT']\n",
    "x_test, t_test = test_data.drop('COUNT', axis=1), test_data['COUNT'] \n",
    "\n",
    "x_train_trans = ct.fit_transform(x_train)\n",
    "x_test_trans = ct.fit_transform(x_test)\n",
    "\n",
    "t_train = t_train.values.ravel()\n",
    "t_test = t_test.values.ravel()\n",
    "\n",
    "model = RandomForestRegressor()\n",
    "kfold = 5\n",
    "kfold_score = cross_val_score(model, x_train_trans, t_train, cv=kfold, scoring='neg_mean_squared_error')\n",
    "print(f'mse : {np.mean(-kfold_score)}')\n",
    "print(f'rmse : {np.sqrt(np.mean(-kfold_score))}')"
   ]
  },
  {
   "cell_type": "markdown",
   "metadata": {},
   "source": [
    "* ## 기본 feature + 경과 주 + 달 + 일"
   ]
  },
  {
   "cell_type": "code",
   "execution_count": 134,
   "metadata": {},
   "outputs": [
    {
     "name": "stdout",
     "output_type": "stream",
     "text": [
      "mse : 0.08116697034308935\n",
      "rmse : 0.2848981753944545\n"
     ]
    }
   ],
   "source": [
    "from sklearn.compose import ColumnTransformer\n",
    "from sklearn.preprocessing import OrdinalEncoder\n",
    "from sklearn.ensemble import RandomForestRegressor\n",
    "from sklearn.model_selection import KFold, cross_val_score\n",
    "from sklearn.metrics import mean_squared_error\n",
    "\n",
    "feature = ['D_TYPE', 'GOODS_TYPE', 'AD1','MONTH', 'DAY','COUNT', 'ELAPSED_WEEK']\n",
    "df_new = df.loc[:,feature]\n",
    "\n",
    "train_data = df_new.iloc[:623579]\n",
    "test_data = df_new.iloc[623579:]\n",
    "\n",
    "ct = ColumnTransformer([('label', OrdinalEncoder(), ['AD1', 'D_TYPE', 'GOODS_TYPE'])], remainder='passthrough')\n",
    "\n",
    "x_train, t_train = train_data.drop('COUNT', axis=1), train_data['COUNT']\n",
    "x_test, t_test = test_data.drop('COUNT', axis=1), test_data['COUNT'] \n",
    "\n",
    "x_train_trans = ct.fit_transform(x_train)\n",
    "x_test_trans = ct.fit_transform(x_test)\n",
    "\n",
    "t_train = t_train.values.ravel()\n",
    "t_test = t_test.values.ravel()\n",
    "\n",
    "model = RandomForestRegressor()\n",
    "kfold = 5\n",
    "kfold_score = cross_val_score(model, x_train_trans, t_train, cv=kfold, scoring='neg_mean_squared_error')\n",
    "print(f'mse : {np.mean(-kfold_score)}')\n",
    "print(f'rmse : {np.sqrt(np.mean(-kfold_score))}')"
   ]
  },
  {
   "cell_type": "markdown",
   "metadata": {},
   "source": [
    "* ## 기본 feature + 경과일 + 달 + 일"
   ]
  },
  {
   "cell_type": "code",
   "execution_count": 135,
   "metadata": {},
   "outputs": [
    {
     "name": "stdout",
     "output_type": "stream",
     "text": [
      "mse : 0.07791948631183183\n",
      "rmse : 0.2791406210350472\n"
     ]
    }
   ],
   "source": [
    "from sklearn.compose import ColumnTransformer\n",
    "from sklearn.preprocessing import OrdinalEncoder\n",
    "from sklearn.ensemble import RandomForestRegressor\n",
    "from sklearn.model_selection import KFold, cross_val_score\n",
    "from sklearn.metrics import mean_squared_error\n",
    "\n",
    "feature = ['D_TYPE', 'GOODS_TYPE', 'AD1','MONTH','ELAPSED_DAY', 'DAY','COUNT', 'ELAPSED_WEEK']\n",
    "df_new = df.loc[:,feature]\n",
    "\n",
    "train_data = df_new.iloc[:623579]\n",
    "test_data = df_new.iloc[623579:]\n",
    "\n",
    "ct = ColumnTransformer([('label', OrdinalEncoder(), ['AD1', 'D_TYPE', 'GOODS_TYPE'])], remainder='passthrough')\n",
    "\n",
    "x_train, t_train = train_data.drop('COUNT', axis=1), train_data['COUNT']\n",
    "x_test, t_test = test_data.drop('COUNT', axis=1), test_data['COUNT'] \n",
    "\n",
    "x_train_trans = ct.fit_transform(x_train)\n",
    "x_test_trans = ct.fit_transform(x_test)\n",
    "\n",
    "t_train = t_train.values.ravel()\n",
    "t_test = t_test.values.ravel()\n",
    "\n",
    "model = RandomForestRegressor()\n",
    "kfold = 5\n",
    "kfold_score = cross_val_score(model, x_train_trans, t_train, cv=kfold, scoring='neg_mean_squared_error')\n",
    "print(f'mse : {np.mean(-kfold_score)}')\n",
    "print(f'rmse : {np.sqrt(np.mean(-kfold_score))}')"
   ]
  }
 ],
 "metadata": {
  "kernelspec": {
   "display_name": "Python [conda env:data_env] *",
   "language": "python",
   "name": "conda-env-data_env-py"
  },
  "language_info": {
   "codemirror_mode": {
    "name": "ipython",
    "version": 3
   },
   "file_extension": ".py",
   "mimetype": "text/x-python",
   "name": "python",
   "nbconvert_exporter": "python",
   "pygments_lexer": "ipython3",
   "version": "3.7.7"
  }
 },
 "nbformat": 4,
 "nbformat_minor": 4
}
